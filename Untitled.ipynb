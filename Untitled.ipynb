{
 "cells": [
  {
   "cell_type": "code",
   "execution_count": 14,
   "metadata": {},
   "outputs": [
    {
     "name": "stdout",
     "output_type": "stream",
     "text": [
      "[1.0, 0.0, 0.0, 0.0]\n"
     ]
    }
   ],
   "source": [
    "#!/usr/bin/env python3\n",
    "# -*- coding: utf-8 -*-\n",
    "\"\"\"\n",
    "Created on Wed Feb  5 08:52:17 2020\n",
    "\n",
    "@author: memetnur\n",
    "\"\"\"\n",
    "\n",
    "# PYTHONIC IMPLEMENTATION ------------------------------------------------------------\n",
    "# input\n",
    "X = [[1,1],\n",
    "\t[1,0],\n",
    "\t[0,1],\n",
    "\t[0,0]]\n",
    "\n",
    "# weights and threshold\n",
    "weights = [1,1]\n",
    "threshold = -1.5\n",
    "\n",
    "# preallocate output list\n",
    "output = [0 for _ in range(len(X))]\n",
    "\n",
    "# compute output\n",
    "for i in range(len(X)):\n",
    "    net = 0\n",
    "    for j in range(len(weights)):\n",
    "            net += weights[j] * X[i][j]\n",
    "    output[i] = 1.0 if net >= -threshold else 0.0\n",
    "        \n",
    "print(output) \n"
   ]
  },
  {
   "cell_type": "code",
   "execution_count": 24,
   "metadata": {},
   "outputs": [
    {
     "name": "stdout",
     "output_type": "stream",
     "text": [
      "[[1 1]\n",
      " [1 0]\n",
      " [0 1]\n",
      " [0 0]]\n",
      "[2 1 1 0]\n",
      "[1 0 0 0]\n"
     ]
    }
   ],
   "source": [
    "# NUMPY IMPLEMENTATION------------------------------------------------------------\n",
    "import numpy as np\n",
    "\n",
    "x=np.array(((1,1),(1,0),(0,1),(0,0)))\n",
    "print(x)\n",
    "w=np.array((1,1))\n",
    "b=-1.5\n",
    "\n",
    "net=np.dot(x,w)\n",
    "print(net)\n",
    "output=np.where(net>= -b, 1,0)\n",
    "print(output)"
   ]
  },
  {
   "cell_type": "code",
   "execution_count": 27,
   "metadata": {},
   "outputs": [
    {
     "name": "stdout",
     "output_type": "stream",
     "text": [
      "output= [1 0 0 0]\n"
     ]
    }
   ],
   "source": [
    "# NUMPY IMPLEMENTATION AS FUNCTION ------------------------------------------------------------\n",
    "\n",
    "import numpy as np\n",
    "def artificial_neuron(x,w,b):\n",
    "    net=np.dot(x,w)\n",
    "    return np.where(net>= -b,1,0)\n",
    "x=np.array(((1,1),(1,0),(0,1),(0,0)))\n",
    "w=np.array((1,1))\n",
    "b=-1.5\n",
    "\n",
    "output=artificial_neuron(x,w,b)\n",
    "print(\"output=\", output)"
   ]
  },
  {
   "cell_type": "code",
   "execution_count": null,
   "metadata": {},
   "outputs": [],
   "source": []
  }
 ],
 "metadata": {
  "kernelspec": {
   "display_name": "Python 3",
   "language": "python",
   "name": "python3"
  },
  "language_info": {
   "codemirror_mode": {
    "name": "ipython",
    "version": 3
   },
   "file_extension": ".py",
   "mimetype": "text/x-python",
   "name": "python",
   "nbconvert_exporter": "python",
   "pygments_lexer": "ipython3",
   "version": "3.7.4"
  }
 },
 "nbformat": 4,
 "nbformat_minor": 2
}
